{
 "cells": [
  {
   "cell_type": "markdown",
   "metadata": {
    "id": "OjWDTkMQGJGS"
   },
   "source": [
    "# HW1_2\n",
    "1. จงเขียนโค้ดเพื่อให้ได้ผลลัพธ์ดังภาพ\n",
    "\n",
    "```\n",
    "tensor([[1., 2., 3., 4.],\n",
    "        [2., 3., 4., 5.],\n",
    "        [3., 4., 5., 6.],\n",
    "        [4., 5., 6., 7.]])\n",
    "```\n",
    "โดยเริ่มต้นจาก\n",
    " tensor = torch.ones(4, 4)\n",
    "\n"
   ]
  },
  {
   "cell_type": "code",
   "execution_count": null,
   "metadata": {},
   "outputs": [
    {
     "data": {
      "text/plain": [
       "tensor([[1., 2., 3., 4.],\n",
       "        [2., 3., 4., 5.],\n",
       "        [3., 4., 5., 6.],\n",
       "        [4., 5., 6., 7.]])"
      ]
     },
     "execution_count": 10,
     "metadata": {},
     "output_type": "execute_result"
    }
   ],
   "source": [
    "# 1\n",
    "\n",
    "import numpy as np\n",
    "import torch\n",
    "\n",
    "tensor = torch.ones( 4,4 )\n",
    "\n",
    "# loop every row and column and increament cnt from row number in every col changed\n",
    "for row in range(4):\n",
    "\tcnt = row + 1\n",
    "\tfor col in range( 4 ):\n",
    "\t\ttensor[ row, col ] = cnt\n",
    "\t\tcnt += 1\n",
    "\n",
    "tensor"
   ]
  },
  {
   "cell_type": "markdown",
   "metadata": {
    "id": "375zf0xUgnKm"
   },
   "source": [
    "\n",
    "2. จงเขียนโค้ดเพื่อให้ได้ผลลัพธ์ดังภาพ\n",
    "\n",
    "```\n",
    "tensor([[1., 0., 0., 0., 0.],\n",
    "        [0., 2., 0., 0., 0.],\n",
    "        [0., 0., 3., 0., 0.],\n",
    "        [0., 0., 0., 4., 0.],\n",
    "        [0., 0., 0., 0., 5.]])\n",
    "```\n",
    "โดยเริ่มต้นจาก\n",
    "tensor = torch.zeros(5, 5)\n",
    "\n"
   ]
  },
  {
   "cell_type": "code",
   "execution_count": null,
   "metadata": {},
   "outputs": [
    {
     "data": {
      "text/plain": [
       "tensor([[1., 0., 0., 0., 0.],\n",
       "        [0., 2., 0., 0., 0.],\n",
       "        [0., 0., 3., 0., 0.],\n",
       "        [0., 0., 0., 4., 0.],\n",
       "        [0., 0., 0., 0., 5.]])"
      ]
     },
     "execution_count": 12,
     "metadata": {},
     "output_type": "execute_result"
    }
   ],
   "source": [
    "tensor = torch.zeros(5, 5)\n",
    "\n",
    "for row in range( 5 ):\n",
    "\tcnt = row + 1\n",
    "\t# set value to row number when row and col is match\n",
    "\ttensor[ row, row ] = cnt\n",
    "\n",
    "tensor"
   ]
  },
  {
   "cell_type": "markdown",
   "metadata": {
    "id": "gmci-yC_hl9q"
   },
   "source": [
    "\n",
    "3. จงเขียนโค้ดเพื่อให้ได้ผลลัพธ์ดังภาพ\n",
    "\n",
    "```\n",
    "tensor([[ 1.,  2.,  3.,  4.,  5.],\n",
    "        [16., 17., 18., 19.,  6.],\n",
    "        [15., 24., 25., 20.,  7.],\n",
    "        [14., 23., 22., 21.,  8.],\n",
    "        [13., 12., 11., 10.,  9.]])\n",
    "\n",
    "```\n",
    "โดยเริ่มต้นจาก\n",
    "tensor = torch.zeros(5, 5)\n",
    "* ใช้ loop ซ้อนกันเกิน 2 ชั้น"
   ]
  },
  {
   "cell_type": "code",
   "execution_count": 14,
   "metadata": {},
   "outputs": [
    {
     "name": "stdout",
     "output_type": "stream",
     "text": [
      "tensor([[ 1.,  2.,  3.,  4.,  5.],\n",
      "        [16., 17., 18., 19.,  6.],\n",
      "        [15., 24., 25., 20.,  7.],\n",
      "        [14., 23., 22., 21.,  8.],\n",
      "        [13., 12., 11., 10.,  9.]])\n"
     ]
    }
   ],
   "source": [
    "tensor = torch.zeros(5, 5)\n",
    "num = 1\n",
    "\n",
    "# 3 nested loops: layer -> side -> position\n",
    "for layer in range(3):                    # Loop 1: spiral layers (0, 1, 2)\n",
    "    for side in range(4):                 # Loop 2: sides (top, right, bottom, left)\n",
    "        # Calculate boundaries for current layer\n",
    "        top, bottom = layer, 4 - layer\n",
    "        left, right = layer, 4 - layer\n",
    "        \n",
    "        if side == 0:  # Top side\n",
    "            for pos in range(left, right + 1):     # Loop 3: positions\n",
    "                if tensor[top][pos] == 0:  # Only fill if empty\n",
    "                    tensor[top][pos] = num\n",
    "                    num += 1\n",
    "        elif side == 1:  # Right side  \n",
    "            for pos in range(top + 1, bottom + 1): # Loop 3: positions\n",
    "                if tensor[pos][right] == 0:\n",
    "                    tensor[pos][right] = num\n",
    "                    num += 1\n",
    "        elif side == 2:  # Bottom side\n",
    "            for pos in range(right - 1, left - 1, -1): # Loop 3: positions\n",
    "                if tensor[bottom][pos] == 0:\n",
    "                    tensor[bottom][pos] = num\n",
    "                    num += 1\n",
    "        elif side == 3:  # Left side\n",
    "            for pos in range(bottom - 1, top, -1):     # Loop 3: positions\n",
    "                if tensor[pos][left] == 0:\n",
    "                    tensor[pos][left] = num\n",
    "                    num += 1\n",
    "\n",
    "print(tensor)"
   ]
  },
  {
   "cell_type": "markdown",
   "metadata": {
    "id": "OQdDx3vBE9pz"
   },
   "source": [
    "4. จงทำการขยายเทนเซอร์ที่มิติ 0 สลับเทนเซอร์ระหว่างมิติที่ 0 กับ 1 เชื่อมเทนเซอร์แบบเดิมที่มิติที่ 2 และการทำการคลี่ออกในตอนสุดท้าย ผลลัพธ์สุดท้ายและรูปทรงสุดท้ายเป็นอย่างไร?\n",
    "```\n",
    "Unsqueeze (dim=0) --> Permute[dim=0<-->dim=1] --> Concatenate (dim=2) --> Flatten\n",
    "```\n",
    "เทนเซอร์โจทย์\n",
    "\\\n",
    "![image.png](data:image/png;base64,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)"
   ]
  },
  {
   "cell_type": "code",
   "execution_count": null,
   "metadata": {},
   "outputs": [
    {
     "name": "stdout",
     "output_type": "stream",
     "text": [
      "tensor([ 0,  1,  2,  3,  4,  5,  6,  7,  8,  9,  0,  1,  2,  3,  4,  5,  6,  7,\n",
      "         8,  9, 10, 11, 12, 13, 14, 15, 16, 17, 18, 19, 10, 11, 12, 13, 14, 15,\n",
      "        16, 17, 18, 19, 20, 21, 22, 23, 24, 25, 26, 27, 28, 29, 20, 21, 22, 23,\n",
      "        24, 25, 26, 27, 28, 29])\n",
      "torch.Size([60])\n"
     ]
    }
   ],
   "source": [
    "import torch\n",
    "\n",
    "# init started tensor\n",
    "tensor = torch.tensor([\n",
    "    [[0, 1, 2, 3, 4],\n",
    "     [5, 6, 7, 8, 9]],\n",
    "    \n",
    "    [[10, 11, 12, 13, 14],\n",
    "     [15, 16, 17, 18, 19]],\n",
    "    \n",
    "    [[20, 21, 22, 23, 24],\n",
    "     [25, 26, 27, 28, 29]]\n",
    "])\n",
    "# step1\n",
    "tensor = tensor.unsqueeze(dim=0)\n",
    "# step2\n",
    "tensor = tensor.permute(1, 0, 2, 3)\n",
    "# step 3\n",
    "tensor = torch.cat([tensor, tensor], dim=2)\n",
    "# step 4\n",
    "tensor = tensor.flatten()\n",
    "\n",
    "# display tensor value and its shape\n",
    "print( tensor )\n",
    "print( tensor.shape )"
   ]
  }
 ],
 "metadata": {
  "colab": {
   "provenance": []
  },
  "kernelspec": {
   "display_name": "Python (myenv)",
   "language": "python",
   "name": "myenv"
  },
  "language_info": {
   "codemirror_mode": {
    "name": "ipython",
    "version": 3
   },
   "file_extension": ".py",
   "mimetype": "text/x-python",
   "name": "python",
   "nbconvert_exporter": "python",
   "pygments_lexer": "ipython3",
   "version": "3.12.4"
  }
 },
 "nbformat": 4,
 "nbformat_minor": 0
}
