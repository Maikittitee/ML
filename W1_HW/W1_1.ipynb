{
 "cells": [
  {
   "cell_type": "code",
   "execution_count": 1,
   "id": "79c6aea8",
   "metadata": {},
   "outputs": [],
   "source": [
    "import numpy as np"
   ]
  },
  {
   "cell_type": "code",
   "execution_count": 2,
   "id": "67831137",
   "metadata": {},
   "outputs": [
    {
     "data": {
      "text/plain": [
       "(2, 2, 3)"
      ]
     },
     "execution_count": 2,
     "metadata": {},
     "output_type": "execute_result"
    }
   ],
   "source": [
    "# ข้อที่ 1\n",
    "# np.array([[[1, 1, 1], [1, 1, 1]], [[1, 1, 1], [1, 1, 1]]]) จงหาขนาด Dimension ของมิติที่ข้างต้น\n",
    "\n",
    "arr = np.array([[[1, 1, 1], [1, 1, 1]], [[1, 1, 1], [1, 1, 1]]])\n",
    "\n",
    "arr.shape"
   ]
  },
  {
   "cell_type": "code",
   "execution_count": 3,
   "id": "152ff8c9",
   "metadata": {},
   "outputs": [
    {
     "name": "stdout",
     "output_type": "stream",
     "text": [
      "4\n"
     ]
    }
   ],
   "source": [
    "# ข้อที่ 2 (มี 2 ข้อ)\n",
    "# arr = np.array([[[1, 2], [2, 1]], [[3, 2], [2, 3]], [[4, 3], [3, 4]]]) จงหา\n",
    "\n",
    "arr = np.array([[[1, 2], [2, 1]], [[3, 2], [2, 3]], [[4, 3], [3, 4]]])\n",
    "\n",
    "# 2.1 arr[0, 0, 0] + arr[1, 1, 1]\n",
    "\n",
    "arr1 = arr[0, 0, 0] + arr[1, 1, 1]\n",
    "print( arr1 ) \n",
    "\n",
    "# 2.2 arr[0] + arr[1]"
   ]
  }
 ],
 "metadata": {
  "kernelspec": {
   "display_name": "Python (myenv)",
   "language": "python",
   "name": "myenv"
  },
  "language_info": {
   "codemirror_mode": {
    "name": "ipython",
    "version": 3
   },
   "file_extension": ".py",
   "mimetype": "text/x-python",
   "name": "python",
   "nbconvert_exporter": "python",
   "pygments_lexer": "ipython3",
   "version": "3.12.4"
  }
 },
 "nbformat": 4,
 "nbformat_minor": 5
}
